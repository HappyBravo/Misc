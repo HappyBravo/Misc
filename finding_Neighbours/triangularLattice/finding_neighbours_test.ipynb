{
 "cells": [
  {
   "cell_type": "markdown",
   "metadata": {},
   "source": [
    "<img src=\"equation.jpeg\" style=\"height:500px\" />\n",
    "\n",
    "top/bottom      = $\\pm \\frac{\\sqrt(3)}{2}y$ \n",
    "\n",
    "top-right/right = $\\text{top/bottom} \\pm \\frac{1}{2}x$ \n",
    "\n",
    "right/left      = $\\pm x$"
   ]
  },
  {
   "cell_type": "code",
   "execution_count": 1,
   "metadata": {},
   "outputs": [],
   "source": [
    "# MAKING LATTICE \n",
    "# X AND Y AXIS IS 1 UNIT SPACED\n",
    "# \n",
    "# o - (1 unit) - o - (1 unit) - o - (1 unit) - o -\n",
    "# |              |\n",
    "# (1 unit)     (1 unit)  \n",
    "# |              |\n",
    "# (1/2 unit) - o - (1 unit) - o - (1 unit) - o -\n",
    "# |              |\n",
    "# (1 unit)     (1 unit)  \n",
    "# |              |\n",
    "# o - (1 unit) - o - (1 unit) - o - (1 unit) - o -\n",
    "\n",
    "\n",
    "# THIS WILL LOOK LIKE THIS\n",
    "\n",
    "# o - o - o\n",
    "# - o - o - o\n",
    "# o - o - o\n",
    "\n"
   ]
  },
  {
   "cell_type": "code",
   "execution_count": 2,
   "metadata": {},
   "outputs": [],
   "source": [
    "import math"
   ]
  },
  {
   "cell_type": "code",
   "execution_count": 12,
   "metadata": {},
   "outputs": [],
   "source": [
    "def get_top_bottom(current_node, mapp, bottom = False):\n",
    "    x, y = current_node\n",
    "    map_height = len(mapp)\n",
    "    return (x, (y + (2*bottom - 1) ) % map_height), mapp  # ADJUST HEIGHT WHEN h IS 3**(0.5)/2\n",
    "\n",
    "def get_right_left(current_node, mapp, wantTopOrBottom = False, left = False):\n",
    "    x, y = current_node\n",
    "    map_width = len(mapp[0])\n",
    "    if mapp[y][(x + (-2*left + 1 )) % map_width] != \" \":\n",
    "        return ((x + (-2*left + 1 )) % map_width, y), mapp\n",
    "    else:\n",
    "    \treturn get_right_left(((x + (-2*left + 1 )) % map_width, y), mapp, left = left)\n",
    "    # return ((x + int(1/(wantTopOrBottom + 1)))%map_width, y), mapp  \n",
    "\n",
    "def get_top_right_left(current_node, mapp, left = False):\n",
    "    current_node, mapp = get_top_bottom(current_node, mapp)\n",
    "    return get_right_left(current_node, mapp, left=left)\n",
    "\n",
    "def get_bottom_right_left(current_node, mapp, left=False):\n",
    "    current_node, mapp = get_top_bottom(current_node, mapp, bottom=True)\n",
    "    return get_right_left(current_node, mapp, left=left)\n",
    "\n",
    "def get_neighbours(current_node, mapp):\n",
    "    getLeft = True\n",
    "    return {\n",
    "            'right' : get_right_left(current_node, mapp)[0],\n",
    "            'left' : get_right_left(current_node, mapp, left = True)[0],\n",
    "            'top-right' : get_top_right_left(current_node, mapp)[0],\n",
    "            'top-left' : get_top_right_left(current_node, mapp, left=True)[0],\n",
    "            'bottom-right' : get_bottom_right_left(current_node, mapp)[0],\n",
    "            'bottom-left' : get_bottom_right_left(current_node, mapp, left=True)[0]\n",
    "            }\n",
    "\n",
    "def print_mapp(mapp, point = None):\n",
    "    \"\"\"\n",
    "    FUNCTION TO VISUALISE THE LATTICE\n",
    "    FOR WIDTH = 6, HEIGHT = 6, THE LATTICE WILL LOOK LIKE -\n",
    "\n",
    "       0 1 2 3 4 5  - X POSITION/INDEX OF LATTICE POINT FOR LAYER 1 \n",
    "        0 1 2 3 4 5 - X POSITION/INDEX OF LATTICE POINT FOR LAYER 2 \n",
    "    --------------\n",
    "    0| o o o o o o \n",
    "    1|  o o o o o o\n",
    "    2| o o o o o o \n",
    "    3|  o o o o o o\n",
    "    4| o o o o o o \n",
    "    5|  o o o o o o\n",
    "    ^--- Y AXIS OF THE LATTICE\n",
    "    \"\"\"\n",
    "    _width = max(len(mapp[1]), len(mapp[0]))\n",
    "    _height = len(mapp)\n",
    "\n",
    "    toColor = False\n",
    "    if point:\n",
    "        toColor = True\n",
    "        toColor_y = point[1]\n",
    "        toColor_x = point[0]\n",
    "        _mapp_y = list(mapp[toColor_y]) \n",
    "        _mapp_y[toColor_x] = f\"{GREEN+unit+RESET}\"\n",
    "        mapp[toColor_y] = \"\".join(_mapp_y)\n",
    "    \n",
    "    _string_mapp = \"\"\n",
    "    \n",
    "    for y in range(_height + 1):\n",
    "        _line = []\n",
    "        if not y:\n",
    "            _line = []\n",
    "            _line.append(\" \"*3)\n",
    "            [_line.append(str(x//2)+ \" \") for x in range(0, _width, 2)]\n",
    "            _line = \"\".join(_line)\n",
    "            _string_mapp += _line + \"\\n\"\n",
    "            \n",
    "            _line = []\n",
    "            _line.append(\" \"*4)\n",
    "            [_line.append(str(x//2)+ \" \") for x in range(0, _width, 2)]\n",
    "            _line = \"\".join(_line)\n",
    "            _string_mapp += _line + \"\\n\"\n",
    "            \n",
    "            \n",
    "            _line = []\n",
    "            _line.append(\" \"*2)\n",
    "            [_line.append('--') for x in range( _width//2 + 1)]\n",
    "            _line = \"\".join(_line)\n",
    "            _string_mapp += _line + \"\\n\"\n",
    "            continue\n",
    "            \n",
    "        _line.append(str(y-1) + \"| \")\n",
    "        _line.append(mapp[y-1])\n",
    "        \n",
    "        _line = \"\".join(_line)\n",
    "        \n",
    "        _string_mapp += _line + \"\\n\"\n",
    "    print(_string_mapp)\n",
    "    # print()\n",
    "\n",
    "def mapp_to_corr(pos):\n",
    "    \"\"\"\n",
    "    FUNCTION TO CONVERT LATTICE POINT FROM REPRESENTAION TO PYTHON INDEX/COORDINATES.  \n",
    "    \"\"\"\n",
    "    x, y = pos\n",
    "    # return ((x+(y%2))/2, y)\n",
    "    return (math.ceil((x+(y%2)*(-1))/2), y)\n",
    "\n",
    "def corr_to_mapp(corr):\n",
    "    \"\"\"\n",
    "    FUNCTION TO CONVERT LATTICE POINT FROM PYTHON INDEX/COORDINATES TO REPRESENTAION.  \n",
    "    \"\"\"\n",
    "    x, y = corr \n",
    "    return (2*x + (y%2) , y)\n"
   ]
  },
  {
   "cell_type": "code",
   "execution_count": 13,
   "metadata": {},
   "outputs": [],
   "source": [
    "MAP_HEIGHT = 6\n",
    "MAP_WIDTH = 6\n",
    "\n",
    "GREEN = '\\033[1;32;40m'\n",
    "RESET = '\\033[0m'"
   ]
  },
  {
   "cell_type": "code",
   "execution_count": null,
   "metadata": {},
   "outputs": [],
   "source": []
  },
  {
   "cell_type": "code",
   "execution_count": 14,
   "metadata": {},
   "outputs": [
    {
     "name": "stdout",
     "output_type": "stream",
     "text": [
      "\u001b[1;32;40mo\u001b[0m \u001b[1;32;40mo\u001b[0m \u001b[1;32;40mo\u001b[0m \u001b[1;32;40mo\u001b[0m \u001b[1;32;40mo\u001b[0m \u001b[1;32;40mo\u001b[0m \n",
      " \u001b[1;32;40mo\u001b[0m \u001b[1;32;40mo\u001b[0m \u001b[1;32;40mo\u001b[0m \u001b[1;32;40mo\u001b[0m \u001b[1;32;40mo\u001b[0m \u001b[1;32;40mo\u001b[0m \n",
      "\u001b[1;32;40mo\u001b[0m \u001b[1;32;40mo\u001b[0m \u001b[1;32;40mo\u001b[0m \u001b[1;32;40mo\u001b[0m \u001b[1;32;40mo\u001b[0m \u001b[1;32;40mo\u001b[0m \n",
      " \u001b[1;32;40mo\u001b[0m \u001b[1;32;40mo\u001b[0m \u001b[1;32;40mo\u001b[0m \u001b[1;32;40mo\u001b[0m \u001b[1;32;40mo\u001b[0m \u001b[1;32;40mo\u001b[0m \n",
      "\u001b[1;32;40mo\u001b[0m \u001b[1;32;40mo\u001b[0m \u001b[1;32;40mo\u001b[0m \u001b[1;32;40mo\u001b[0m \u001b[1;32;40mo\u001b[0m \u001b[1;32;40mo\u001b[0m \n",
      " \u001b[1;32;40mo\u001b[0m \u001b[1;32;40mo\u001b[0m \u001b[1;32;40mo\u001b[0m \u001b[1;32;40mo\u001b[0m \u001b[1;32;40mo\u001b[0m \u001b[1;32;40mo\u001b[0m \n"
     ]
    }
   ],
   "source": [
    "gap = 0\n",
    "\n",
    "unit = \"o\"\n",
    "space = \" \"\n",
    "\n",
    "mapp = []\n",
    "mapp_dict = {'nodes' : []}\n",
    "\n",
    "for y in range(MAP_HEIGHT):\n",
    "    _mapp = []\n",
    "    _x = 0\n",
    "    coor = []\n",
    "    if gap:\n",
    "        print(space, end=\"\")\n",
    "        _mapp.append(space)\n",
    "        _x = 1\n",
    "    for x in range(MAP_WIDTH):\n",
    "        print(f\"{unit}\", end=\" \") \n",
    "        _mapp.append(unit)\n",
    "\n",
    "    mapp_dict['nodes'] += [(xs, y) for xs in range(_x, 2*MAP_WIDTH, 2)]\n",
    "    mapp.append(\"\".join(_mapp))\n",
    "    gap = (gap+1)%2\n",
    "    print()\n"
   ]
  },
  {
   "cell_type": "code",
   "execution_count": 15,
   "metadata": {},
   "outputs": [
    {
     "data": {
      "text/plain": [
       "{'nodes': [(0, 0),\n",
       "  (2, 0),\n",
       "  (4, 0),\n",
       "  (6, 0),\n",
       "  (8, 0),\n",
       "  (10, 0),\n",
       "  (1, 1),\n",
       "  (3, 1),\n",
       "  (5, 1),\n",
       "  (7, 1),\n",
       "  (9, 1),\n",
       "  (11, 1),\n",
       "  (0, 2),\n",
       "  (2, 2),\n",
       "  (4, 2),\n",
       "  (6, 2),\n",
       "  (8, 2),\n",
       "  (10, 2),\n",
       "  (1, 3),\n",
       "  (3, 3),\n",
       "  (5, 3),\n",
       "  (7, 3),\n",
       "  (9, 3),\n",
       "  (11, 3),\n",
       "  (0, 4),\n",
       "  (2, 4),\n",
       "  (4, 4),\n",
       "  (6, 4),\n",
       "  (8, 4),\n",
       "  (10, 4),\n",
       "  (1, 5),\n",
       "  (3, 5),\n",
       "  (5, 5),\n",
       "  (7, 5),\n",
       "  (9, 5),\n",
       "  (11, 5)]}"
      ]
     },
     "execution_count": 15,
     "metadata": {},
     "output_type": "execute_result"
    }
   ],
   "source": [
    "mapp_dict"
   ]
  },
  {
   "cell_type": "code",
   "execution_count": 16,
   "metadata": {},
   "outputs": [],
   "source": [
    "_mapp_parts = []\n",
    "'''\n",
    "for i in mapp:\n",
    "    _inner = []\n",
    "    for j in \" \".join(i):\n",
    "        _inner.append(j)\n",
    "    _mapp_parts.append(_inner)\n",
    "'''\n",
    "\n",
    "to_print = [\"\".join([unit if (x,y) in mapp_dict['nodes'] else space for x in range(2*MAP_WIDTH)]) for y in range(MAP_HEIGHT) ]\n"
   ]
  },
  {
   "cell_type": "code",
   "execution_count": 17,
   "metadata": {},
   "outputs": [
    {
     "name": "stdout",
     "output_type": "stream",
     "text": [
      "   0 1 2 3 4 5 \n",
      "    0 1 2 3 4 5 \n",
      "  --------------\n",
      "0| o o o o o o \n",
      "1|  o o o o o o\n",
      "2| o o o o o o \n",
      "3|  o o o o o o\n",
      "4| o o o o o o \n",
      "5|  o o o o o o\n",
      "\n"
     ]
    }
   ],
   "source": [
    "print_mapp(to_print)"
   ]
  },
  {
   "cell_type": "code",
   "execution_count": 18,
   "metadata": {},
   "outputs": [],
   "source": [
    "_mapp_parts = to_print   "
   ]
  },
  {
   "cell_type": "code",
   "execution_count": 19,
   "metadata": {},
   "outputs": [
    {
     "name": "stdout",
     "output_type": "stream",
     "text": [
      "{'right': (3, 2), 'left': (1, 2), 'top-right': (2, 1), 'top-left': (1, 1), 'bottom-right': (2, 3), 'bottom-left': (1, 3)}\n",
      "   0 1 2 3 4 5 \n",
      "    0 1 2 3 4 5 \n",
      "  --------------\n",
      "0| o o o o o o \n",
      "1|  o o o o o o\n",
      "2| o o \u001b[1;32;40mo\u001b[0m o o o \n",
      "3|  o o o o o o\n",
      "4| o o o o o o \n",
      "5|  o o o o o o\n",
      "\n"
     ]
    }
   ],
   "source": [
    "    \n",
    "x = int(input(\"Enter x : \").strip())\n",
    "y = int(input(\"Enter y : \").strip())\n",
    "\n",
    "curr = corr_to_mapp((x,y))\n",
    "\n",
    "# print(curr)\n",
    "\n",
    "nb = get_neighbours(curr, _mapp_parts)\n",
    "nb2 = {}\n",
    "for _dir, _val in nb.items():\n",
    "    nb2[_dir] = mapp_to_corr(_val)\n",
    "print(nb2)\n",
    "print_mapp(to_print, curr)"
   ]
  },
  {
   "cell_type": "code",
   "execution_count": 20,
   "metadata": {},
   "outputs": [
    {
     "data": {
      "text/plain": [
       "{'right': (6, 2),\n",
       " 'left': (2, 2),\n",
       " 'top-right': (5, 1),\n",
       " 'top-left': (3, 1),\n",
       " 'bottom-right': (5, 3),\n",
       " 'bottom-left': (3, 3)}"
      ]
     },
     "execution_count": 20,
     "metadata": {},
     "output_type": "execute_result"
    }
   ],
   "source": [
    "nb"
   ]
  },
  {
   "cell_type": "code",
   "execution_count": 21,
   "metadata": {},
   "outputs": [
    {
     "data": {
      "text/plain": [
       "{'right': (3, 2),\n",
       " 'left': (1, 2),\n",
       " 'top-right': (2, 1),\n",
       " 'top-left': (1, 1),\n",
       " 'bottom-right': (2, 3),\n",
       " 'bottom-left': (1, 3)}"
      ]
     },
     "execution_count": 21,
     "metadata": {},
     "output_type": "execute_result"
    }
   ],
   "source": [
    "nb2"
   ]
  },
  {
   "cell_type": "code",
   "execution_count": null,
   "metadata": {},
   "outputs": [],
   "source": []
  }
 ],
 "metadata": {
  "kernelspec": {
   "display_name": "globalenv",
   "language": "python",
   "name": "python3"
  },
  "language_info": {
   "codemirror_mode": {
    "name": "ipython",
    "version": 3
   },
   "file_extension": ".py",
   "mimetype": "text/x-python",
   "name": "python",
   "nbconvert_exporter": "python",
   "pygments_lexer": "ipython3",
   "version": "3.12.0"
  }
 },
 "nbformat": 4,
 "nbformat_minor": 2
}
