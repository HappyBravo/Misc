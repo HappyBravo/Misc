{
 "cells": [
  {
   "cell_type": "markdown",
   "metadata": {},
   "source": [
    "<img src=\"equation.jpeg\" style=\"height:500px\" />\n",
    "\n",
    "top/bottom      = $\\pm \\frac{\\sqrt(3)}{2}y$ \n",
    "\n",
    "top-right/right = $\\text{top/bottom} \\pm \\frac{1}{2}x$ \n",
    "\n",
    "right/left      = $\\pm x$"
   ]
  },
  {
   "cell_type": "code",
   "execution_count": 1,
   "metadata": {},
   "outputs": [],
   "source": [
    "# MAKING LATTICE \n",
    "# X AND Y AXIS IS 1 UNIT SPACED\n",
    "# \n",
    "# o - (1 unit) - o - (1 unit) - o - (1 unit) - o -\n",
    "# |              |\n",
    "# (1 unit)     (1 unit)  \n",
    "# |              |\n",
    "# (1/2 unit) - o - (1 unit) - o - (1 unit) - o -\n",
    "# |              |\n",
    "# (1 unit)     (1 unit)  \n",
    "# |              |\n",
    "# o - (1 unit) - o - (1 unit) - o - (1 unit) - o -\n",
    "\n",
    "\n",
    "# THIS WILL LOOK LIKE THIS\n",
    "\n",
    "# o - o - o\n",
    "# - o - o - o\n",
    "# o - o - o\n",
    "\n"
   ]
  },
  {
   "cell_type": "code",
   "execution_count": 104,
   "metadata": {},
   "outputs": [],
   "source": [
    "import math"
   ]
  },
  {
   "cell_type": "code",
   "execution_count": 190,
   "metadata": {},
   "outputs": [],
   "source": [
    "def get_top_bottom(current_node, mapp, bottom = False):\n",
    "    x, y = current_node\n",
    "    map_height = len(mapp)\n",
    "    return (x, (y + (2*bottom - 1) ) % map_height), mapp  # ADJUST HEIGHT WHEN h IS 3**(0.5)/2\n",
    "\n",
    "def get_right_left(current_node, mapp, wantTopOrBottom = False, left = False):\n",
    "    x, y = current_node\n",
    "    map_width = len(mapp[0])\n",
    "    return ((x + (-2*left + 1 )) % map_width, y), mapp  \n",
    "    # return ((x + int(1/(wantTopOrBottom + 1)))%map_width, y), mapp  \n",
    "\n",
    "def get_top_right_left(current_node, mapp, left = False):\n",
    "    current_node, mapp = get_top_bottom(current_node, mapp)\n",
    "    return get_right_left(current_node, mapp, left=left)\n",
    "\n",
    "def get_bottom_right_left(current_node, mapp, left=False):\n",
    "    current_node, mapp = get_top_bottom(current_node, mapp, bottom=True)\n",
    "    return get_right_left(current_node, mapp, left=left)\n",
    "\n",
    "def get_neighbours(current_node, mapp):\n",
    "    getLeft = True\n",
    "    return {\n",
    "            'right' : get_right_left(current_node, mapp)[0],\n",
    "            'left' : get_right_left(current_node, mapp, left = True)[0],\n",
    "            'top-right' : get_top_right_left(current_node, mapp)[0],\n",
    "            'top-left' : get_top_right_left(current_node, mapp, left=True)[0],\n",
    "            'bottom-right' : get_bottom_right_left(current_node, mapp)[0],\n",
    "            'bottom-left' : get_bottom_right_left(current_node, mapp, left=True)[0]\n",
    "            }\n",
    "\n",
    "def mapp_to_corr(pos):\n",
    "    x, y = pos\n",
    "    # return ((x+(y%2))/2, y)\n",
    "    return (math.ceil((x+(y%2))/2), y)\n",
    "\n",
    "def corr_to_mapp(corr):\n",
    "    x, y = corr \n",
    "    return (2*x + (y%2) , y)\n"
   ]
  },
  {
   "cell_type": "code",
   "execution_count": 180,
   "metadata": {},
   "outputs": [],
   "source": [
    "MAP_HEIGHT = 4\n",
    "MAP_WIDTH = 4"
   ]
  },
  {
   "cell_type": "code",
   "execution_count": 181,
   "metadata": {},
   "outputs": [
    {
     "name": "stdout",
     "output_type": "stream",
     "text": [
      "x x x x \n",
      " x x x x \n",
      "x x x x \n",
      " x x x x \n"
     ]
    }
   ],
   "source": [
    "gap = 0\n",
    "unit = \"x \"\n",
    "space = \" \"\n",
    "mapp = []\n",
    "mapp_dict = {'nodes' : []}\n",
    "for y in range(MAP_HEIGHT):\n",
    "    _mapp = []\n",
    "    _x = 0\n",
    "    coor = []\n",
    "    if gap:\n",
    "        print(space, end=\"\")\n",
    "        _mapp.append(space)\n",
    "        _x = 1\n",
    "    for x in range(MAP_WIDTH):\n",
    "        print(unit, end=\"\") \n",
    "        _mapp.append(unit)\n",
    "\n",
    "    mapp_dict['nodes'] += [(xs, y) for xs in range(_x, 2*MAP_WIDTH, 2)]\n",
    "    mapp.append(\"\".join(_mapp))\n",
    "    gap = (gap+1)%2\n",
    "    print()\n",
    "\n"
   ]
  },
  {
   "cell_type": "code",
   "execution_count": 182,
   "metadata": {},
   "outputs": [
    {
     "data": {
      "text/plain": [
       "{'nodes': [(0, 0),\n",
       "  (2, 0),\n",
       "  (4, 0),\n",
       "  (6, 0),\n",
       "  (1, 1),\n",
       "  (3, 1),\n",
       "  (5, 1),\n",
       "  (7, 1),\n",
       "  (0, 2),\n",
       "  (2, 2),\n",
       "  (4, 2),\n",
       "  (6, 2),\n",
       "  (1, 3),\n",
       "  (3, 3),\n",
       "  (5, 3),\n",
       "  (7, 3)]}"
      ]
     },
     "execution_count": 182,
     "metadata": {},
     "output_type": "execute_result"
    }
   ],
   "source": [
    "mapp_dict"
   ]
  },
  {
   "cell_type": "code",
   "execution_count": 183,
   "metadata": {},
   "outputs": [],
   "source": [
    "_mapp_parts = []\n",
    "for i in mapp:\n",
    "    _inner = []\n",
    "    for j in \"\".join(i).rstrip():\n",
    "        _inner.append(j)\n",
    "    _mapp_parts.append(_inner)\n",
    "\n",
    "    "
   ]
  },
  {
   "cell_type": "code",
   "execution_count": 184,
   "metadata": {},
   "outputs": [
    {
     "data": {
      "text/plain": [
       "[['x', ' ', 'x', ' ', 'x', ' ', 'x'],\n",
       " [' ', 'x', ' ', 'x', ' ', 'x', ' ', 'x'],\n",
       " ['x', ' ', 'x', ' ', 'x', ' ', 'x'],\n",
       " [' ', 'x', ' ', 'x', ' ', 'x', ' ', 'x']]"
      ]
     },
     "execution_count": 184,
     "metadata": {},
     "output_type": "execute_result"
    }
   ],
   "source": [
    "_mapp_parts"
   ]
  },
  {
   "cell_type": "code",
   "execution_count": 186,
   "metadata": {},
   "outputs": [
    {
     "name": "stdout",
     "output_type": "stream",
     "text": [
      "(0, 0)\n",
      "{'right': (1, 0), 'left': (3, 0), 'top-right': (1, 3), 'top-left': (4, 3), 'bottom-right': (1, 1), 'bottom-left': (4, 1)}\n"
     ]
    }
   ],
   "source": [
    "x = 0\n",
    "y = 0\n",
    "curr = corr_to_mapp((x,y))\n",
    "print(curr)\n",
    "nb = get_neighbours(curr, _mapp_parts)\n",
    "nb2 = {}\n",
    "for _dir, _val in nb.items():\n",
    "    nb2[_dir] = mapp_to_corr(_val)\n",
    "print(nb2)"
   ]
  },
  {
   "cell_type": "code",
   "execution_count": 187,
   "metadata": {},
   "outputs": [
    {
     "data": {
      "text/plain": [
       "{'right': (1, 0),\n",
       " 'left': (6, 0),\n",
       " 'top-right': (1, 3),\n",
       " 'top-left': (6, 3),\n",
       " 'bottom-right': (1, 1),\n",
       " 'bottom-left': (6, 1)}"
      ]
     },
     "execution_count": 187,
     "metadata": {},
     "output_type": "execute_result"
    }
   ],
   "source": [
    "nb"
   ]
  },
  {
   "cell_type": "code",
   "execution_count": 188,
   "metadata": {},
   "outputs": [
    {
     "data": {
      "text/plain": [
       "{'right': (1, 0),\n",
       " 'left': (3, 0),\n",
       " 'top-right': (1, 3),\n",
       " 'top-left': (4, 3),\n",
       " 'bottom-right': (1, 1),\n",
       " 'bottom-left': (4, 1)}"
      ]
     },
     "execution_count": 188,
     "metadata": {},
     "output_type": "execute_result"
    }
   ],
   "source": [
    "nb2"
   ]
  },
  {
   "cell_type": "code",
   "execution_count": null,
   "metadata": {},
   "outputs": [],
   "source": []
  }
 ],
 "metadata": {
  "kernelspec": {
   "display_name": "globalenv",
   "language": "python",
   "name": "python3"
  },
  "language_info": {
   "codemirror_mode": {
    "name": "ipython",
    "version": 3
   },
   "file_extension": ".py",
   "mimetype": "text/x-python",
   "name": "python",
   "nbconvert_exporter": "python",
   "pygments_lexer": "ipython3",
   "version": "3.12.0"
  }
 },
 "nbformat": 4,
 "nbformat_minor": 2
}
