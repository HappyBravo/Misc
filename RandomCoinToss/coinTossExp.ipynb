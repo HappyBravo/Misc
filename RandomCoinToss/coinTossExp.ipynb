{
 "cells": [
  {
   "attachments": {},
   "cell_type": "markdown",
   "metadata": {},
   "source": [
    "`The professor then explained that in truly random sequences of 1000 coin tosses, one would expect to see roughly 60 instances of four consecutive heads and around 7 instances of eight consecutive heads or runs.`\n",
    "\n",
    "Link : https://www.linkedin.com/posts/ananyapam-de-523757166_random-statistics-activity-7106666940798046208-UVMg"
   ]
  },
  {
   "cell_type": "code",
   "execution_count": 1,
   "metadata": {},
   "outputs": [],
   "source": [
    "# Import the 'random' module for generating random numbers\n",
    "import random\n",
    "\n",
    "# Import the 'time' module for obtaining the current time (used as a seed)\n",
    "import time"
   ]
  },
  {
   "cell_type": "code",
   "execution_count": 156,
   "metadata": {},
   "outputs": [],
   "source": [
    "def coinTossExp(_list):\n",
    "    # Count the total number of 0s and 1s in the list\n",
    "    total_zeros = _list.count(0)\n",
    "    total_ones = _list.count(1)\n",
    "    print(f\"Total 0s: {total_zeros}, Total 1s: {total_ones}\")\n",
    "\n",
    "    # Convert the list to a string and count the occurrences of '1111'\n",
    "    result_str = ''.join(map(str, _list))\n",
    "    count_consecutive_fours = result_str.count('1111')\n",
    "    print(f\"Total 4 consecutive 1s: {count_consecutive_fours}\")\n",
    "\n",
    "    # Convert the list to a string and count the occurrences of '11111111'\n",
    "    result_str = ''.join(map(str, _list))\n",
    "    count_consecutive_eights = result_str.count('11111111')\n",
    "    print(f\"Total 8 consecutive 1s: {count_consecutive_eights}\")\n"
   ]
  },
  {
   "cell_type": "code",
   "execution_count": 282,
   "metadata": {},
   "outputs": [],
   "source": [
    "import time\n",
    "import random\n",
    "\n",
    "def _random_main(a, b):\n",
    "    # Use the current time as a seed (milliseconds)\n",
    "    seed = int(time.time() * 1000)\n",
    "    \n",
    "    # Generate a pseudo-random number between 0 and 1 using LCG\n",
    "    random_number = (seed * max(random.randint(0, 2**64), 6364136223846793005) + 1) % 2**64 / 2**64\n",
    "    \n",
    "    # Map the random number to the range [a, b]\n",
    "    scaled_number = a + random_number * (b - a + 1)\n",
    "    \n",
    "    # Round to the nearest integer and return\n",
    "    return int(scaled_number)\n",
    "\n",
    "def _random(a, b):\n",
    "    tryy = 0\n",
    "    _result = -1\n",
    "    while(tryy < 5):\n",
    "        _result = _random_main(a, b)\n",
    "        \n",
    "        # Check if the generated result is within the specified range [a, b]\n",
    "        if(a <= _result and _result <= b):\n",
    "            return _result \n",
    "        \n",
    "        tryy += 1\n",
    "        \n",
    "    # If 5 consecutive out-of-bounds values are generated, print a warning\n",
    "    if tryy >= 5:\n",
    "        print(\"Out of bounds:\", _result)\n",
    "    return _result\n"
   ]
  },
  {
   "cell_type": "code",
   "execution_count": 54,
   "metadata": {},
   "outputs": [
    {
     "name": "stdout",
     "output_type": "stream",
     "text": [
      "0\n"
     ]
    }
   ],
   "source": [
    "# Example usage:\n",
    "random_value = _random(0, 1)\n",
    "print(random_value)"
   ]
  },
  {
   "cell_type": "code",
   "execution_count": 291,
   "metadata": {},
   "outputs": [
    {
     "name": "stdout",
     "output_type": "stream",
     "text": [
      "Total 0s: 445, Total 1s: 555\n",
      "Total 4 consecutive 1s: 59\n",
      "Total 8 consecutive 1s: 8\n"
     ]
    }
   ],
   "source": [
    "# Generate a list of 1000 random numbers between 0 and 1 using the _random function\n",
    "result = [_random(0, 1) for _ in range(1000)]\n",
    "\n",
    "# Call the coinTossExp function to analyze the generated list\n",
    "coinTossExp(result)\n"
   ]
  },
  {
   "cell_type": "code",
   "execution_count": null,
   "metadata": {},
   "outputs": [],
   "source": []
  }
 ],
 "metadata": {
  "kernelspec": {
   "display_name": "GlobalEnvironment",
   "language": "python",
   "name": "python3"
  },
  "language_info": {
   "codemirror_mode": {
    "name": "ipython",
    "version": 3
   },
   "file_extension": ".py",
   "mimetype": "text/x-python",
   "name": "python",
   "nbconvert_exporter": "python",
   "pygments_lexer": "ipython3",
   "version": "3.10.6"
  },
  "orig_nbformat": 4
 },
 "nbformat": 4,
 "nbformat_minor": 2
}
