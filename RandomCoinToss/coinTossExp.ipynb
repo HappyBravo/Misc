{
 "cells": [
  {
   "attachments": {},
   "cell_type": "markdown",
   "metadata": {},
   "source": [
    "`The professor then explained that in truly random sequences of 1000 coin tosses, one would expect to see roughly 60 instances of four consecutive heads and around 7 instances of eight consecutive heads or runs.`\n",
    "\n",
    "Link : https://www.linkedin.com/posts/ananyapam-de-523757166_random-statistics-activity-7106666940798046208-UVMg"
   ]
  },
  {
   "cell_type": "code",
   "execution_count": 1,
   "metadata": {},
   "outputs": [],
   "source": [
    "# Import the 'random' module for generating random numbers\n",
    "import random\n",
    "\n",
    "# Import the 'time' module for obtaining the current time (used as a seed)\n",
    "import time"
   ]
  },
  {
   "cell_type": "code",
   "execution_count": 2,
   "metadata": {},
   "outputs": [],
   "source": [
    "def coinTossExp(_list, wantPrint = 1):\n",
    "    # Count the total number of 0s and 1s in the list\n",
    "    total_zeros = _list.count(0)\n",
    "    total_ones = _list.count(1)\n",
    "\n",
    "    # Convert the list to a string and count the occurrences of '1111'\n",
    "    result_str = ''.join(map(str, _list))\n",
    "    count_consecutive_fours = result_str.count('1111')\n",
    "\n",
    "    # Convert the list to a string and count the occurrences of '11111111'\n",
    "    result_str = ''.join(map(str, _list))\n",
    "    count_consecutive_eights = result_str.count('11111111')\n",
    "    \n",
    "    # Check if 'wantPrint' is True (1), and if so, print the results\n",
    "    if wantPrint:\n",
    "        print(f\"Total 0s: {total_zeros}, Total 1s: {total_ones}\")\n",
    "        print(f\"Total 4 consecutive 1s: {count_consecutive_fours}\")\n",
    "        print(f\"Total 8 consecutive 1s: {count_consecutive_eights}\")\n",
    "\n",
    "    # Return a list containing the counts for further use if needed\n",
    "    return [total_zeros, total_ones, count_consecutive_fours, count_consecutive_eights]\n"
   ]
  },
  {
   "cell_type": "code",
   "execution_count": 3,
   "metadata": {},
   "outputs": [],
   "source": [
    "def _random_main(a, b):\n",
    "    # Use the current time as a seed (milliseconds)\n",
    "    seed = int(time.time() * 1000)\n",
    "    \n",
    "    # Generate a pseudo-random number between 0 and 1 using LCG\n",
    "    random_number = (seed * max(random.randint(0, 2**64), 6364136223846793005) + 1) % 2**64 / 2**64\n",
    "    \n",
    "    # Map the random number to the range [a, b]\n",
    "    scaled_number = a + random_number * (b - a + 1)\n",
    "    \n",
    "    # Round to the nearest integer and return\n",
    "    return int(scaled_number)\n",
    "\n",
    "def _random(a, b):\n",
    "    tryy = 0\n",
    "    _result = -1\n",
    "    while(tryy < 5):\n",
    "        _result = _random_main(a, b)\n",
    "        \n",
    "        # Check if the generated result is within the specified range [a, b]\n",
    "        if(a <= _result and _result <= b):\n",
    "            return _result \n",
    "        \n",
    "        tryy += 1\n",
    "        \n",
    "    # If 5 consecutive out-of-bounds values are generated, print a warning\n",
    "    if tryy >= 5:\n",
    "        print(\"Out of bounds:\", _result)\n",
    "    return _result\n"
   ]
  },
  {
   "cell_type": "code",
   "execution_count": 4,
   "metadata": {},
   "outputs": [
    {
     "name": "stdout",
     "output_type": "stream",
     "text": [
      "1\n"
     ]
    }
   ],
   "source": [
    "# Example usage:\n",
    "random_value = _random(0, 1)\n",
    "print(random_value)"
   ]
  },
  {
   "cell_type": "code",
   "execution_count": 16,
   "metadata": {},
   "outputs": [
    {
     "name": "stdout",
     "output_type": "stream",
     "text": [
      "Total 0s: 432, Total 1s: 568\n",
      "Total 4 consecutive 1s: 59\n",
      "Total 8 consecutive 1s: 8\n"
     ]
    },
    {
     "data": {
      "text/plain": [
       "[432, 568, 59, 8]"
      ]
     },
     "execution_count": 16,
     "metadata": {},
     "output_type": "execute_result"
    }
   ],
   "source": [
    "# Generate a list of 1000 random numbers between 0 and 1 using the _random function\n",
    "result = [_random(0, 1) for _ in range(1000)]\n",
    "\n",
    "# Call the coinTossExp function to analyze the generated list\n",
    "coinTossExp(result)\n"
   ]
  },
  {
   "cell_type": "code",
   "execution_count": 19,
   "metadata": {},
   "outputs": [],
   "source": [
    "def getting_desired_result(times, coinTossTimes=1000, desired_count_four=60, desired_count_eight=7, desired_error_four=15, desired_error_eight=2, wantPrint=0):\n",
    "    # Initialize a count to keep track of how many times the desired conditions are met\n",
    "    _count = 0\n",
    "    \n",
    "    # Repeat the following process 'times' number of times\n",
    "    for i in range(times):\n",
    "        # Generate a list of 1000 random 0s and 1s\n",
    "        result = [_random(0, 1) for _ in range(coinTossTimes)]\n",
    "        \n",
    "        # Call the coinTossExp function to analyze the results and optionally print them\n",
    "        zeros, ones, fours, eights = coinTossExp(result, wantPrint=wantPrint)\n",
    "        \n",
    "        # Check if the counts of consecutive fours and eights are within the desired range of errors\n",
    "        if abs(desired_count_four - fours) <= desired_error_four or abs(desired_count_eight - eights) <= desired_error_eight:\n",
    "            # If the conditions are met, increment the count\n",
    "            _count += 1\n",
    "\n",
    "    # Return the count of times the desired conditions were met\n",
    "    return _count\n"
   ]
  },
  {
   "cell_type": "code",
   "execution_count": 20,
   "metadata": {},
   "outputs": [
    {
     "name": "stdout",
     "output_type": "stream",
     "text": [
      "Success rate: 75.00%\n"
     ]
    }
   ],
   "source": [
    "# Number of test times\n",
    "test_times = 100\n",
    "\n",
    "# Function to perform tests and count successful outcomes\n",
    "correct_times = getting_desired_result(test_times)\n",
    "\n",
    "# Calculate the percentage of times the desired result was achieved\n",
    "success_percentage = 100 * (correct_times / test_times)\n",
    "\n",
    "# Print the success percentage\n",
    "print(f\"Success rate: {success_percentage:.2f}%\")\n"
   ]
  },
  {
   "cell_type": "code",
   "execution_count": null,
   "metadata": {},
   "outputs": [],
   "source": []
  }
 ],
 "metadata": {
  "kernelspec": {
   "display_name": "GlobalEnvironment",
   "language": "python",
   "name": "python3"
  },
  "language_info": {
   "codemirror_mode": {
    "name": "ipython",
    "version": 3
   },
   "file_extension": ".py",
   "mimetype": "text/x-python",
   "name": "python",
   "nbconvert_exporter": "python",
   "pygments_lexer": "ipython3",
   "version": "3.10.6"
  },
  "orig_nbformat": 4
 },
 "nbformat": 4,
 "nbformat_minor": 2
}
