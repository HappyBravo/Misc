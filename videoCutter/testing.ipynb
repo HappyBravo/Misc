{
 "cells": [
  {
   "cell_type": "code",
   "execution_count": null,
   "metadata": {},
   "outputs": [],
   "source": [
    "import os"
   ]
  },
  {
   "cell_type": "code",
   "execution_count": null,
   "metadata": {},
   "outputs": [],
   "source": [
    "timestamp_f = \"timestamps.txt\"\n"
   ]
  },
  {
   "cell_type": "code",
   "execution_count": null,
   "metadata": {},
   "outputs": [],
   "source": [
    "time_stamps = []\n",
    "time_stamps_in_sec = []\n",
    "part_names = []\n",
    "\n",
    "with open(timestamp_f, \"r\", encoding=\"utf-8\") as f:\n",
    "    _data = f.readlines()\n",
    "\n",
    "    lines = _data\n",
    "\n",
    "    for line in lines:\n",
    "        # print(line)\n",
    "        line_part = line.split()\n",
    "        time_stamp = line_part[0]\n",
    "        time_stamps.append(time_stamp)\n",
    "\n",
    "        part_name = \"_\".join(line_part[1:])\n",
    "        part_names.append(part_name)\n",
    "\n",
    "        parts = time_stamp.split(\":\")\n",
    "        hours = int(parts[0])\n",
    "        minutes = int(parts[1])\n",
    "        seconds = int(parts[2])\n",
    "        \n",
    "        total_seconds = hours * 3600 + minutes * 60 + seconds\n",
    "\n",
    "        time_stamps_in_sec.append(total_seconds)\n"
   ]
  },
  {
   "cell_type": "code",
   "execution_count": null,
   "metadata": {},
   "outputs": [],
   "source": [
    "print(time_stamps)\n",
    "print(part_names)\n",
    "print(time_stamps_in_sec)\n"
   ]
  },
  {
   "cell_type": "code",
   "execution_count": null,
   "metadata": {},
   "outputs": [],
   "source": [
    "def make_paires(timestamp_list):\n",
    "    pairs = []\n",
    "    pairs = [(timestamp_list[i], timestamp_list[i+1]) for i in range(len(timestamp_list)-1)]\n",
    "    return pairs\n"
   ]
  },
  {
   "cell_type": "code",
   "execution_count": null,
   "metadata": {},
   "outputs": [],
   "source": [
    "make_paires(time_stamps_in_sec)"
   ]
  },
  {
   "cell_type": "code",
   "execution_count": null,
   "metadata": {},
   "outputs": [],
   "source": [
    "from moviepy.video.io.ffmpeg_tools import ffmpeg_extract_subclip\n"
   ]
  },
  {
   "cell_type": "code",
   "execution_count": null,
   "metadata": {},
   "outputs": [],
   "source": [
    "video_dir = \"video\"\n",
    "video_name = \"Bleach_Cour_1 _OST.mp4\"\n",
    "video_path = os.path.join(video_dir, video_name)\n",
    "\n",
    "output_video_folder = \"video_out\"\n",
    "if not os.path.exists(output_video_folder):\n",
    "    os.makedirs(output_video_folder)\n",
    "\n",
    "\n",
    "_exist = os.path.exists(video_path)\n",
    "if _exist:\n",
    "    input_video = video_path\n",
    "    cut_ranges = make_paires(time_stamps_in_sec)\n",
    "\n",
    "    for i, (start, end) in enumerate(cut_ranges):\n",
    "        partt = part_names[i]\n",
    "        output_video = f\"{video_name[:-4]}__{partt}.mp4\"\n",
    "        print(\"Trying... \")\n",
    "        print(output_video)\n",
    "        ffmpeg_extract_subclip(input_video, start, end, targetname=os.path.join(output_video_folder, output_video))\n",
    "        print(f\"--- {output_video} done\")\n",
    "\n",
    "else:\n",
    "    print(\"video path not correct\")"
   ]
  },
  {
   "cell_type": "code",
   "execution_count": null,
   "metadata": {},
   "outputs": [],
   "source": []
  }
 ],
 "metadata": {
  "kernelspec": {
   "display_name": "videocutter_env",
   "language": "python",
   "name": "python3"
  },
  "language_info": {
   "codemirror_mode": {
    "name": "ipython",
    "version": 3
   },
   "file_extension": ".py",
   "mimetype": "text/x-python",
   "name": "python",
   "nbconvert_exporter": "python",
   "pygments_lexer": "ipython3",
   "version": "3.10.6"
  },
  "orig_nbformat": 4
 },
 "nbformat": 4,
 "nbformat_minor": 2
}
